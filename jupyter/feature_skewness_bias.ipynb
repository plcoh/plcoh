{
 "cells": [
  {
   "cell_type": "code",
   "execution_count": 1,
   "id": "initial_id",
   "metadata": {
    "ExecuteTime": {
     "end_time": "2024-05-28T14:52:52.761234Z",
     "start_time": "2024-05-28T14:52:52.758221Z"
    }
   },
   "outputs": [
    {
     "name": "stdout",
     "output_type": "stream",
     "text": [
      "/home/threadripper/PycharmProjects/plcoh\n"
     ]
    }
   ],
   "source": [
    "%cd '/home/threadripper/PycharmProjects/plcoh'"
   ]
  },
  {
   "cell_type": "code",
   "execution_count": 2,
   "id": "e0853b7b5d4eb2c7",
   "metadata": {
    "ExecuteTime": {
     "end_time": "2024-05-28T14:52:52.919521Z",
     "start_time": "2024-05-28T14:52:52.762174Z"
    },
    "collapsed": false,
    "jupyter": {
     "outputs_hidden": false
    }
   },
   "outputs": [],
   "source": [
    "import numpy as np\n",
    "import pandas as pd\n",
    "import matplotlib as mpl\n",
    "import matplotlib.pyplot as plt\n",
    "import seaborn as sns\n",
    "from services.coherence_service import CoherenceService"
   ]
  },
  {
   "cell_type": "code",
   "execution_count": 3,
   "id": "5c299957b0f1f700",
   "metadata": {
    "ExecuteTime": {
     "end_time": "2024-05-28T14:52:52.923006Z",
     "start_time": "2024-05-28T14:52:52.920593Z"
    },
    "collapsed": false,
    "jupyter": {
     "outputs_hidden": false
    }
   },
   "outputs": [],
   "source": [
    "mpl.rcParams['figure.dpi'] = 200\n",
    "sns.set_style(\"whitegrid\")"
   ]
  },
  {
   "cell_type": "code",
   "execution_count": 4,
   "id": "d28b77831c7f89b9",
   "metadata": {
    "ExecuteTime": {
     "end_time": "2024-05-28T14:52:52.990751Z",
     "start_time": "2024-05-28T14:52:52.923973Z"
    }
   },
   "outputs": [],
   "source": [
    "coherence_service = CoherenceService(shuffled=True)\n",
    "coherence_service.load_from_cache()"
   ]
  },
  {
   "cell_type": "code",
   "execution_count": 5,
   "id": "562fe1743b7d3043",
   "metadata": {
    "ExecuteTime": {
     "end_time": "2024-05-28T14:52:52.995281Z",
     "start_time": "2024-05-28T14:52:52.991960Z"
    }
   },
   "outputs": [],
   "source": [
    "def group_by_length(significance_service, feature):\n",
    "    row = []\n",
    "    mapping = {}\n",
    "    for coh, length in significance_service.data[[feature, 'length']].dropna().values:\n",
    "        key = int(10 * (length // 10))\n",
    "        if key < 10:\n",
    "            print('No')\n",
    "        if key > 100:\n",
    "            continue\n",
    "        mapping.setdefault(key, []).append(coh)\n",
    "        row.append([int(key), coh])\n",
    "    data = pd.DataFrame(row, columns=['length', feature])\n",
    "    mapping = list(mapping.items())\n",
    "    mapping.sort()\n",
    "    return data, mapping"
   ]
  },
  {
   "cell_type": "code",
   "execution_count": 6,
   "id": "408ec5400468b50c",
   "metadata": {
    "ExecuteTime": {
     "end_time": "2024-05-28T14:52:55.780849Z",
     "start_time": "2024-05-28T14:52:52.996887Z"
    }
   },
   "outputs": [],
   "source": [
    "speechiness_data, speechiness_mapping = group_by_length(coherence_service, 'speechiness')\n",
    "danceability_data, danceability_mapping = group_by_length(coherence_service, 'danceability')"
   ]
  },
  {
   "cell_type": "code",
   "execution_count": null,
   "id": "801c9b4e40b78d52",
   "metadata": {
    "ExecuteTime": {
     "end_time": "2024-05-28T14:53:00.153138Z",
     "start_time": "2024-05-28T14:52:55.781988Z"
    }
   },
   "outputs": [],
   "source": [
    "f, (ax0, ax1) = plt.subplots(1, 2, figsize=(11, 4))\n",
    "sns.kdeplot(speechiness_data, x='speechiness', hue='length', common_norm=False, palette=\"flare\", ax=ax0)\n",
    "ax0.set_yticks(np.arange(0, 5, step=1.0))\n",
    "ax0.set_ylim((0, 4.8))\n",
    "ax0.set_xlim((-0.75, 0.75))\n",
    "ax0.set_xticks(np.arange(-0.75, 0.76, step=0.25))\n",
    "\n",
    "\n",
    "sns.kdeplot(danceability_data, x='danceability', hue='length', common_norm=False, palette=\"flare\", ax=ax1)\n",
    "ax1.set_yticks(np.arange(0, 5, step=1.0))\n",
    "ax1.set_ylim((0, 4.8))\n",
    "ax1.set_xlim((-0.75, 0.75))\n",
    "ax1.set_xticks(np.arange(-0.75, 0.76, step=0.25))\n",
    "ax1.set_ylabel(None)\n",
    "\n",
    "plt.tight_layout()\n",
    "plt.savefig('plots/fig_length_influcence_kde.png')\n",
    "plt.show()"
   ]
  },
  {
   "cell_type": "code",
   "execution_count": null,
   "id": "2f1391cd35ad42f1",
   "metadata": {
    "ExecuteTime": {
     "end_time": "2024-05-28T14:53:00.211487Z",
     "start_time": "2024-05-28T14:53:00.154206Z"
    }
   },
   "outputs": [],
   "source": [
    "pd.DataFrame([(x, len(y), np.mean(y), np.median(y)) for x, y in speechiness_mapping], columns=['length', 'size', 'mean', 'median'])"
   ]
  }
 ],
 "metadata": {
  "kernelspec": {
   "display_name": "Python 3 (ipykernel)",
   "language": "python",
   "name": "python3"
  },
  "language_info": {
   "codemirror_mode": {
    "name": "ipython",
    "version": 3
   },
   "file_extension": ".py",
   "mimetype": "text/x-python",
   "name": "python",
   "nbconvert_exporter": "python",
   "pygments_lexer": "ipython3",
   "version": "3.11.2"
  }
 },
 "nbformat": 4,
 "nbformat_minor": 5
}
