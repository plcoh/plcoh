{
 "cells": [
  {
   "cell_type": "code",
   "execution_count": 1,
   "id": "initial_id",
   "metadata": {
    "ExecuteTime": {
     "end_time": "2024-09-29T18:48:55.672196Z",
     "start_time": "2024-09-29T18:48:55.669039Z"
    }
   },
   "outputs": [
    {
     "name": "stdout",
     "output_type": "stream",
     "text": [
      "/home/threadripper/PycharmProjects/plcoh\n"
     ]
    }
   ],
   "source": [
    "%cd '/home/threadripper/PycharmProjects/plcoh'"
   ]
  },
  {
   "cell_type": "code",
   "execution_count": 2,
   "id": "66cb5d6b811ad464",
   "metadata": {
    "ExecuteTime": {
     "end_time": "2024-09-29T18:48:55.752311Z",
     "start_time": "2024-09-29T18:48:55.686127Z"
    }
   },
   "outputs": [],
   "source": [
    "import numpy as np\n",
    "import matplotlib.pyplot as plt\n",
    "import seaborn as sns\n",
    "import pandas as pd\n",
    "from scipy import stats\n",
    "\n",
    "from services.coherence_service import CoherenceService"
   ]
  },
  {
   "cell_type": "code",
   "execution_count": 3,
   "id": "2e4e752eccd7dc6f",
   "metadata": {
    "ExecuteTime": {
     "end_time": "2024-09-29T18:48:55.945980Z",
     "start_time": "2024-09-29T18:48:55.922523Z"
    }
   },
   "outputs": [],
   "source": [
    "coherence_service = CoherenceService()\n",
    "coherence_service.load_from_cache()"
   ]
  },
  {
   "cell_type": "code",
   "execution_count": 4,
   "id": "6ac877898a4243e",
   "metadata": {
    "ExecuteTime": {
     "end_time": "2024-09-29T18:48:55.970149Z",
     "start_time": "2024-09-29T18:48:55.965726Z"
    }
   },
   "outputs": [
    {
     "data": {
      "text/plain": [
       "Index(['length', 'log_length', 'c_length', 'num_edits', 'log_num_edits',\n",
       "       'c_num_edits', 'popularity', 'c_popularity', 'c_collaborative',\n",
       "       'danceability', 'energy', 'loudness', 'speechiness', 'acousticness',\n",
       "       'instrumentalness', 'liveness', 'valence', 'tempo', 'tonality',\n",
       "       'artists'],\n",
       "      dtype='object')"
      ]
     },
     "execution_count": 4,
     "metadata": {},
     "output_type": "execute_result"
    }
   ],
   "source": [
    "coherence_service.data.columns"
   ]
  },
  {
   "cell_type": "code",
   "execution_count": 5,
   "id": "d901cdc3c7b35d08",
   "metadata": {
    "ExecuteTime": {
     "end_time": "2024-09-29T18:48:56.023005Z",
     "start_time": "2024-09-29T18:48:56.015478Z"
    }
   },
   "outputs": [],
   "source": [
    "data = coherence_service.data[['log_length', 'log_num_edits', 'popularity', 'c_collaborative']]"
   ]
  },
  {
   "cell_type": "code",
   "execution_count": 6,
   "id": "41b5b22477a07c97",
   "metadata": {
    "ExecuteTime": {
     "end_time": "2024-09-29T18:48:56.987999Z",
     "start_time": "2024-09-29T18:48:56.984939Z"
    }
   },
   "outputs": [],
   "source": [
    "def corr_pvalues(df):\n",
    "    rho = df.corr(method='kendall')\n",
    "    pval = pd.DataFrame(np.zeros((df.shape[1], df.shape[1])), columns=df.columns, index=df.columns)\n",
    "    \n",
    "    for row in df.columns:\n",
    "        for col in df.columns:\n",
    "            if row != col:\n",
    "                if row == 'c_collaborative':\n",
    "                    rho_val, p_val = stats.pointbiserialr(df[row], df[col])\n",
    "                else:\n",
    "                    rho_val, p_val = stats.kendalltau(df[row], df[col])\n",
    "                pval.loc[row, col] = p_val\n",
    "                rho.loc[row, col] = rho_val\n",
    "            else:\n",
    "                pval.loc[row, col] = np.nan  # Diagonal\n",
    "    \n",
    "    return rho, pval"
   ]
  },
  {
   "cell_type": "code",
   "execution_count": 7,
   "id": "c8cd1e3f8f823daa",
   "metadata": {
    "ExecuteTime": {
     "end_time": "2024-09-29T18:48:57.095019Z",
     "start_time": "2024-09-29T18:48:57.091665Z"
    }
   },
   "outputs": [],
   "source": [
    "def plot_corr_pvalues(df):\n",
    "    rho, pval = corr_pvalues(df)\n",
    "    \n",
    "    mask = np.triu(np.ones_like(rho, dtype=bool))\n",
    "    \n",
    "    plt.figure(figsize=(10, 8))\n",
    "    sns.heatmap(rho, mask=mask, annot=True, fmt=\".2f\", cmap=\"coolwarm\", vmin=-1, vmax=1, \n",
    "                cbar_kws={\"shrink\": .8})\n",
    "    \n",
    "    # Annotate significance\n",
    "    for i in range(len(rho.columns)):\n",
    "        for j in range(i+1, len(rho.columns)):\n",
    "            p = pval.iloc[i, j]\n",
    "            if p < 0.01:\n",
    "                plt.text(j + 0.5, i + 0.5, '**', ha='center', va='center', color='black')\n",
    "            elif p < 0.05:\n",
    "                plt.text(j + 0.5, i + 0.5, '*', ha='center', va='center', color='black')\n",
    "    \n",
    "    plt.title(\"Correlation Matrix with Significance Levels\")\n",
    "    plt.show()"
   ]
  },
  {
   "cell_type": "code",
   "execution_count": 8,
   "id": "4240e98b46a17794",
   "metadata": {
    "ExecuteTime": {
     "end_time": "2024-09-29T18:48:58.179299Z",
     "start_time": "2024-09-29T18:48:57.117224Z"
    }
   },
   "outputs": [],
   "source": [
    "rho, pval = corr_pvalues(data)"
   ]
  },
  {
   "cell_type": "code",
   "execution_count": 9,
   "id": "4e52be2fa16f456",
   "metadata": {
    "ExecuteTime": {
     "end_time": "2024-09-29T18:48:58.222854Z",
     "start_time": "2024-09-29T18:48:58.218356Z"
    }
   },
   "outputs": [
    {
     "data": {
      "text/html": [
       "<div>\n",
       "<style scoped>\n",
       "    .dataframe tbody tr th:only-of-type {\n",
       "        vertical-align: middle;\n",
       "    }\n",
       "\n",
       "    .dataframe tbody tr th {\n",
       "        vertical-align: top;\n",
       "    }\n",
       "\n",
       "    .dataframe thead th {\n",
       "        text-align: right;\n",
       "    }\n",
       "</style>\n",
       "<table border=\"1\" class=\"dataframe\">\n",
       "  <thead>\n",
       "    <tr style=\"text-align: right;\">\n",
       "      <th></th>\n",
       "      <th>log_length</th>\n",
       "      <th>log_num_edits</th>\n",
       "      <th>popularity</th>\n",
       "      <th>c_collaborative</th>\n",
       "    </tr>\n",
       "  </thead>\n",
       "  <tbody>\n",
       "    <tr>\n",
       "      <th>log_length</th>\n",
       "      <td>1.000000</td>\n",
       "      <td>0.372062</td>\n",
       "      <td>-0.000989</td>\n",
       "      <td>0.013802</td>\n",
       "    </tr>\n",
       "    <tr>\n",
       "      <th>log_num_edits</th>\n",
       "      <td>0.372062</td>\n",
       "      <td>1.000000</td>\n",
       "      <td>0.001477</td>\n",
       "      <td>0.031434</td>\n",
       "    </tr>\n",
       "    <tr>\n",
       "      <th>popularity</th>\n",
       "      <td>-0.000989</td>\n",
       "      <td>0.001477</td>\n",
       "      <td>1.000000</td>\n",
       "      <td>-0.033348</td>\n",
       "    </tr>\n",
       "    <tr>\n",
       "      <th>c_collaborative</th>\n",
       "      <td>0.016383</td>\n",
       "      <td>0.037171</td>\n",
       "      <td>-0.034793</td>\n",
       "      <td>1.000000</td>\n",
       "    </tr>\n",
       "  </tbody>\n",
       "</table>\n",
       "</div>"
      ],
      "text/plain": [
       "                 log_length  log_num_edits  popularity  c_collaborative\n",
       "log_length         1.000000       0.372062   -0.000989         0.013802\n",
       "log_num_edits      0.372062       1.000000    0.001477         0.031434\n",
       "popularity        -0.000989       0.001477    1.000000        -0.033348\n",
       "c_collaborative    0.016383       0.037171   -0.034793         1.000000"
      ]
     },
     "execution_count": 9,
     "metadata": {},
     "output_type": "execute_result"
    }
   ],
   "source": [
    "rho"
   ]
  },
  {
   "cell_type": "code",
   "execution_count": 10,
   "id": "cfcce9274b6046ea",
   "metadata": {
    "ExecuteTime": {
     "end_time": "2024-09-29T18:48:58.244145Z",
     "start_time": "2024-09-29T18:48:58.239576Z"
    }
   },
   "outputs": [
    {
     "data": {
      "text/html": [
       "<div>\n",
       "<style scoped>\n",
       "    .dataframe tbody tr th:only-of-type {\n",
       "        vertical-align: middle;\n",
       "    }\n",
       "\n",
       "    .dataframe tbody tr th {\n",
       "        vertical-align: top;\n",
       "    }\n",
       "\n",
       "    .dataframe thead th {\n",
       "        text-align: right;\n",
       "    }\n",
       "</style>\n",
       "<table border=\"1\" class=\"dataframe\">\n",
       "  <thead>\n",
       "    <tr style=\"text-align: right;\">\n",
       "      <th></th>\n",
       "      <th>log_length</th>\n",
       "      <th>log_num_edits</th>\n",
       "      <th>popularity</th>\n",
       "      <th>c_collaborative</th>\n",
       "    </tr>\n",
       "  </thead>\n",
       "  <tbody>\n",
       "    <tr>\n",
       "      <th>log_length</th>\n",
       "      <td>NaN</td>\n",
       "      <td>0.000000e+00</td>\n",
       "      <td>2.343400e-01</td>\n",
       "      <td>7.320426e-42</td>\n",
       "    </tr>\n",
       "    <tr>\n",
       "      <th>log_num_edits</th>\n",
       "      <td>0.000000e+00</td>\n",
       "      <td>NaN</td>\n",
       "      <td>8.001830e-02</td>\n",
       "      <td>3.540564e-203</td>\n",
       "    </tr>\n",
       "    <tr>\n",
       "      <th>popularity</th>\n",
       "      <td>2.343400e-01</td>\n",
       "      <td>8.001830e-02</td>\n",
       "      <td>NaN</td>\n",
       "      <td>5.819868e-238</td>\n",
       "    </tr>\n",
       "    <tr>\n",
       "      <th>c_collaborative</th>\n",
       "      <td>7.253217e-40</td>\n",
       "      <td>1.323812e-197</td>\n",
       "      <td>2.267033e-173</td>\n",
       "      <td>NaN</td>\n",
       "    </tr>\n",
       "  </tbody>\n",
       "</table>\n",
       "</div>"
      ],
      "text/plain": [
       "                   log_length  log_num_edits     popularity  c_collaborative\n",
       "log_length                NaN   0.000000e+00   2.343400e-01     7.320426e-42\n",
       "log_num_edits    0.000000e+00            NaN   8.001830e-02    3.540564e-203\n",
       "popularity       2.343400e-01   8.001830e-02            NaN    5.819868e-238\n",
       "c_collaborative  7.253217e-40  1.323812e-197  2.267033e-173              NaN"
      ]
     },
     "execution_count": 10,
     "metadata": {},
     "output_type": "execute_result"
    }
   ],
   "source": [
    "pval"
   ]
  },
  {
   "cell_type": "code",
   "execution_count": 11,
   "id": "5e653f1b24003541",
   "metadata": {
    "ExecuteTime": {
     "end_time": "2024-09-29T18:48:59.568117Z",
     "start_time": "2024-09-29T18:48:58.331440Z"
    }
   },
   "outputs": [
    {
     "data": {
      "image/png": "[encoded data removed]",
      "text/plain": [
       "<Figure size 1000x800 with 2 Axes>"
      ]
     },
     "metadata": {},
     "output_type": "display_data"
    }
   ],
   "source": [
    "plot_corr_pvalues(data)"
   ]
  },
  {
   "cell_type": "code",
   "execution_count": null,
   "id": "887b0edfcd4fe5f2",
   "metadata": {
    "ExecuteTime": {
     "end_time": "2024-09-29T18:48:59.609236Z",
     "start_time": "2024-09-29T18:48:59.607776Z"
    }
   },
   "outputs": [],
   "source": []
  }
 ],
 "metadata": {
  "kernelspec": {
   "display_name": "Python 3 (ipykernel)",
   "language": "python",
   "name": "python3"
  },
  "language_info": {
   "codemirror_mode": {
    "name": "ipython",
    "version": 3
   },
   "file_extension": ".py",
   "mimetype": "text/x-python",
   "name": "python",
   "nbconvert_exporter": "python",
   "pygments_lexer": "ipython3",
   "version": "3.11.2"
  }
 },
 "nbformat": 4,
 "nbformat_minor": 5
}
